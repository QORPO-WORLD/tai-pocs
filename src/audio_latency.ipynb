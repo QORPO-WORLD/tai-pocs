{
 "cells": [
  {
   "cell_type": "code",
   "execution_count": 1,
   "metadata": {},
   "outputs": [],
   "source": [
    "from application.aws import AwsAPI"
   ]
  },
  {
   "cell_type": "code",
   "execution_count": 2,
   "metadata": {},
   "outputs": [],
   "source": [
    "aws = AwsAPI()"
   ]
  },
  {
   "cell_type": "markdown",
   "metadata": {},
   "source": [
    "# Audio response latency\n",
    "\n",
    "Here, a text response is generated and then passed to Polly to measure the latency to get mp3 from text. Results are pretty stable, 1 sentence is voiced in a second"
   ]
  },
  {
   "cell_type": "code",
   "execution_count": 4,
   "metadata": {},
   "outputs": [
    {
     "name": "stdout",
     "output_type": "stream",
     "text": [
      "Polly latencies: avg=1.09sec, min=0.58sec, max=1.70sec\n"
     ]
    }
   ],
   "source": [
    "\n",
    "messages = [\n",
    "    \"GoldBicycle is on a rampage, racking up multiple kills across the map with the MK556Rifle.\",\n",
    "    \"They took out CarryTrue in the Desert, ChapterResult in the City, HenUseful back in the Desert again, and just recently BridgeSystem in the Forest.\",\n",
    "    \"That's 4 kills so far without being taken out themselves, putting them at the top of the leaderboard.\",\n",
    "    \"With 127 players left alive, GoldBicycle seems determined to be the last one standing.\",\n",
    "    \"GoldBicycle's rampage finally comes to an end at the hands of BalconyPicnic in the Bank with the BerettaPistol.\",\n",
    "    \"Their 5 kills put them at the top briefly before being taken out.\",\n",
    "    \"Meanwhile, QuestionNeutral takes out DemandLive and ExpectParty to rack up 2 quick kills with both the MK556Rifle and BerettaPistol.\",\n",
    "    \"With 123 left, players are dropping quickly across the map as the action heats up.\",\n",
    "    \"QuestionNeutral continues their strong start, taking out LoveWeather in the Desert to bring their total kills to 3.\",\n",
    "    \"Meanwhile, BrandRegion opens their account with a long distance BerettaPistol kill on OctoberThing in the Bank.\",\n",
    "    \"BrandRegion quickly follows it up by picking off SpatialSlam with the MK556Rifle across the map in the City.\",\n",
    "    \"The field continues to thin with only 120 left.\",\n",
    "    \"Multiple players are making their presence felt early.\",\n",
    "]\n",
    "\n",
    "for sentence in messages:\n",
    "    aws.convert_to_voice(sentence)\n",
    "\n",
    "print(aws.get_polly_stats())"
   ]
  }
 ],
 "metadata": {
  "kernelspec": {
   "display_name": "venv",
   "language": "python",
   "name": "python3"
  },
  "language_info": {
   "codemirror_mode": {
    "name": "ipython",
    "version": 3
   },
   "file_extension": ".py",
   "mimetype": "text/x-python",
   "name": "python",
   "nbconvert_exporter": "python",
   "pygments_lexer": "ipython3",
   "version": "3.11.10"
  }
 },
 "nbformat": 4,
 "nbformat_minor": 2
}
